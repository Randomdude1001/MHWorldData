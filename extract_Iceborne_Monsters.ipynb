{
 "cells": [
  {
   "cell_type": "code",
   "execution_count": 167,
   "metadata": {},
   "outputs": [],
   "source": [
    "#lxml\n",
    "from lxml import etree\n",
    "from lxml.html import parse as html_parse\n",
    "from pathlib import Path"
   ]
  },
  {
   "cell_type": "code",
   "execution_count": 279,
   "metadata": {},
   "outputs": [],
   "source": [
    "def handle_file(source_file, result_file):\n",
    "    parsed_f = html_parse(str(source_file))\n",
    "    \n",
    "    name = source_file.stem\n",
    "    \n",
    "    #search for description by locating blockquote element\n",
    "    #TODO <br> tags are just removed. This leads to the extracted tags missing a space after a .\n",
    "    description = parsed_f.xpath('//blockquote')[0].text_content().strip()\n",
    "    \n",
    "    infobox = parsed_f.xpath('//div[@id=\"infobox\"]')[0]\n",
    "    m_type = infobox.xpath('.//td[text()=\"Enemy Type\"]/following-sibling::td')[0].text_content()\n",
    "    species = infobox.xpath('.//td[text()=\"Species\"]/following-sibling::td')[0].text_content()\n",
    "    #elements = infobox.xpath('.//td[text()=\"Elements\"]/following-sibling::td')[0].text_content()\n",
    "    \n",
    "    weaknesses_text = infobox.xpath('.//td[text()=\"Weakness\"]/following-sibling::td')[0].text_content()\n",
    "    weaknesses_text_simple = weaknesses_text.replace('â­', '*')\n",
    "    temp = weaknesses_text_simple.split('*)')\n",
    "    temp = [line + '*)' for line in temp]\n",
    "    del temp[-1]\n",
    "    weaknesses = [(i[:i.find('(')].strip(), i.count('*')) for i in temp]\n",
    "    \n",
    "    resistances_text = infobox.xpath('.//td[text()=\"Resistances\"]/following-sibling::td')[0].text_content()\n",
    "    print(resistances_text)\n",
    "    resistances_text_simple = resistances_text.replace('â­', '*')\n",
    "    #X means 0 stars\n",
    "    resistances_text_simple = resistances_text_simple.replace('(X)', '()')\n",
    "    resistances = ''\n",
    "    if resistances_text_simple.count('*') > 0:\n",
    "        print(resistances_text_simple)\n",
    "        temp = resistances_text_simple.split('*)')\n",
    "        temp = [line + '*)' for line in temp]\n",
    "        print(temp)\n",
    "        del temp[-1]\n",
    "        resistances = [(i[:i.find('(')].strip(), i.count('*')) for i in temp]\n",
    "    else:\n",
    "        temp = resistances_text_simple.split()\n",
    "        resistances = [(i, 0) for i in temp]\n",
    "    \n",
    "    \n",
    "    print(name, description, m_type, species, weaknesses, resistances, '\\n')"
   ]
  },
  {
   "cell_type": "code",
   "execution_count": 280,
   "metadata": {},
   "outputs": [
    {
     "name": "stdout",
     "output_type": "stream",
     "text": [
      "Ice Water\n",
      "Banbaro A monster with two giant horns, like a running brick wall.It charges at threats while digging its massive horns in the ground, sometimes picking up entire trees along the way.\" Large Monsters Brute Wyverns [('Dragon', 3), ('Fire', 2), ('Thunder', 1)] [('Ice', 0), ('Water', 0)] \n",
      "\n",
      "Ice Dragon\n",
      "Beotodus A piscine wyvern that uses the sharp fin on its head to cut through the frozen soil, swimming freely through the snow.Can often be seen hurling snow at its prey using its leg fins.\" Large Monsters Piscine Wyverns [('Fire', 3), ('Thunder', 2), ('Water', 1)] [('Ice', 0), ('Dragon', 0)] \n",
      "\n",
      " Water\n",
      "Nargacuga A flying wyvern covered in pitch black fur.It is extremely agile, especially on the ground, moving with explosive bursts of speed.\" Large Monsters Flying Wyverns [('Thunder', 3), ('Fire', 2), ('Ice', 1), ('Dragon', 1)] [('Water', 0)] \n",
      "\n",
      "Ice\n",
      "Shrieking Legiana A Legiana variant shrouded in white frost. It specializes in freezing prey with the powerful chill it emits, then swooping down to strike at them from overhead.\"  Large Monsters  Flying Wyverns [('Fire', 3), ('Thunder', 2), ('Water', 1), ('Dragon', 1)] [('Ice', 0)] \n",
      "\n",
      "  Water (â­) Ice (â­) Fire (X) \n",
      "  Water (*) Ice (*) Fire () \n",
      "[' \\xa0Water (*)', ' Ice (*)', ' Fire\\xa0() *)']\n",
      "Tigrex A flying wyvern straight out of prehistory, known for its deafening roar and powerful legs that drive its overwhelming charge.\" Large Monsters Flying Wyverns [('Thunder', 3), ('Dragon', 2)] [('Water', 1), ('Ice', 1)] \n",
      "\n",
      "Ice\n",
      "Velkhana An elder dragon with the power to freeze all in its path.According to ancient legend, it can freely control the cold, and unleash an Large Monsters Elder Dragons [('Fire', 3), ('Thunder', 2), ('Dragon', 2)] [('Ice', 0)] \n",
      "\n"
     ]
    }
   ],
   "source": [
    "root_dir = Path.cwd().absolute()\n",
    "ressources_dir_name = 'ressources'\n",
    "ressources_dir = root_dir.joinpath(ressources_dir_name)\n",
    "\n",
    "#print(str(root_dir))\n",
    "#print(str(ressources_dir))\n",
    "\n",
    "result = ''\n",
    "\n",
    "#find .html files inside ressources_dir\n",
    "for f in ressources_dir.glob('*.html'):\n",
    "    #print(f)\n",
    "    handle_file(f, result)"
   ]
  },
  {
   "cell_type": "code",
   "execution_count": null,
   "metadata": {},
   "outputs": [],
   "source": []
  }
 ],
 "metadata": {
  "kernelspec": {
   "display_name": "Python 3",
   "language": "python",
   "name": "python3"
  },
  "language_info": {
   "codemirror_mode": {
    "name": "ipython",
    "version": 3
   },
   "file_extension": ".py",
   "mimetype": "text/x-python",
   "name": "python",
   "nbconvert_exporter": "python",
   "pygments_lexer": "ipython3",
   "version": "3.7.4"
  }
 },
 "nbformat": 4,
 "nbformat_minor": 2
}
